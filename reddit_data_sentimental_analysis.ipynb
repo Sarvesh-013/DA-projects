{
  "metadata": {
    "kernelspec": {
      "display_name": "Python 3",
      "name": "python3"
    },
    "language_info": {
      "name": "python",
      "version": "3.7.10",
      "mimetype": "text/x-python",
      "codemirror_mode": {
        "name": "ipython",
        "version": 3
      },
      "pygments_lexer": "ipython3",
      "nbconvert_exporter": "python",
      "file_extension": ".py"
    },
    "colab": {
      "provenance": [],
      "gpuType": "T4"
    },
    "accelerator": "GPU"
  },
  "nbformat_minor": 0,
  "nbformat": 4,
  "cells": [
    {
      "cell_type": "code",
      "source": [
        "import pandas as pd\n",
        "import numpy as np\n",
        "import seaborn as sns\n",
        "import matplotlib.pyplot as plt"
      ],
      "metadata": {
        "execution": {
          "iopub.status.busy": "2021-09-15T18:11:22.980468Z",
          "iopub.execute_input": "2021-09-15T18:11:22.980787Z",
          "iopub.status.idle": "2021-09-15T18:11:23.790553Z",
          "shell.execute_reply.started": "2021-09-15T18:11:22.980708Z",
          "shell.execute_reply": "2021-09-15T18:11:23.789789Z"
        },
        "trusted": true,
        "id": "DROL4PMZOOHF"
      },
      "execution_count": null,
      "outputs": []
    },
    {
      "cell_type": "code",
      "source": [],
      "metadata": {
        "id": "_SqhrHwjJdsM"
      },
      "execution_count": null,
      "outputs": []
    },
    {
      "cell_type": "code",
      "source": [
        "import tensorflow\n",
        "from tensorflow.keras.models import Sequential\n",
        "from tensorflow.keras.preprocessing.text import Tokenizer\n",
        "from tensorflow.keras.preprocessing.sequence import pad_sequences\n",
        "from tensorflow.keras.layers import Embedding,Bidirectional,LSTM,Dense,Dropout\n",
        "from tensorflow.keras.utils import to_categorical"
      ],
      "metadata": {
        "execution": {
          "iopub.status.busy": "2021-09-15T18:11:25.380571Z",
          "iopub.execute_input": "2021-09-15T18:11:25.380839Z",
          "iopub.status.idle": "2021-09-15T18:11:29.487861Z",
          "shell.execute_reply.started": "2021-09-15T18:11:25.380811Z",
          "shell.execute_reply": "2021-09-15T18:11:29.487147Z"
        },
        "trusted": true,
        "id": "JI7UWdkoOOHI"
      },
      "execution_count": null,
      "outputs": []
    },
    {
      "cell_type": "markdown",
      "source": [],
      "metadata": {
        "id": "oEEzyv3oJY6t"
      }
    },
    {
      "cell_type": "code",
      "source": [],
      "metadata": {
        "execution": {
          "iopub.status.busy": "2021-09-15T18:11:29.489382Z",
          "iopub.execute_input": "2021-09-15T18:11:29.489611Z",
          "iopub.status.idle": "2021-09-15T18:11:29.746448Z",
          "shell.execute_reply.started": "2021-09-15T18:11:29.489581Z",
          "shell.execute_reply": "2021-09-15T18:11:29.745803Z"
        },
        "trusted": true,
        "id": "xbW0vXipOOHK"
      },
      "execution_count": null,
      "outputs": []
    },
    {
      "cell_type": "code",
      "source": [
        "from google.colab import drive\n",
        "drive.mount('/content/drive')"
      ],
      "metadata": {
        "colab": {
          "base_uri": "https://localhost:8080/"
        },
        "id": "8VzHXbDAOWTi",
        "outputId": "96b7a5da-21bf-468b-f226-19b1d02a4558"
      },
      "execution_count": null,
      "outputs": [
        {
          "output_type": "stream",
          "name": "stdout",
          "text": [
            "Mounted at /content/drive\n"
          ]
        }
      ]
    },
    {
      "cell_type": "code",
      "source": [
        "df=pd.read_csv('/content/drive/MyDrive/Datasets/Reddit_Data.csv')\n",
        "df.head(5)"
      ],
      "metadata": {
        "colab": {
          "base_uri": "https://localhost:8080/",
          "height": 206
        },
        "id": "LFPOwbukJcB7",
        "outputId": "a2ca1346-538f-42d7-e08a-df0311a1cf69"
      },
      "execution_count": null,
      "outputs": [
        {
          "output_type": "execute_result",
          "data": {
            "text/plain": [
              "                                       clean_comment  category\n",
              "0   family mormon have never tried explain them t...         1\n",
              "1  buddhism has very much lot compatible with chr...         1\n",
              "2  seriously don say thing first all they won get...        -1\n",
              "3  what you have learned yours and only yours wha...         0\n",
              "4  for your own benefit you may want read living ...         1"
            ],
            "text/html": [
              "\n",
              "  <div id=\"df-c949b823-68c7-4f6f-9364-c674cbd768f7\" class=\"colab-df-container\">\n",
              "    <div>\n",
              "<style scoped>\n",
              "    .dataframe tbody tr th:only-of-type {\n",
              "        vertical-align: middle;\n",
              "    }\n",
              "\n",
              "    .dataframe tbody tr th {\n",
              "        vertical-align: top;\n",
              "    }\n",
              "\n",
              "    .dataframe thead th {\n",
              "        text-align: right;\n",
              "    }\n",
              "</style>\n",
              "<table border=\"1\" class=\"dataframe\">\n",
              "  <thead>\n",
              "    <tr style=\"text-align: right;\">\n",
              "      <th></th>\n",
              "      <th>clean_comment</th>\n",
              "      <th>category</th>\n",
              "    </tr>\n",
              "  </thead>\n",
              "  <tbody>\n",
              "    <tr>\n",
              "      <th>0</th>\n",
              "      <td>family mormon have never tried explain them t...</td>\n",
              "      <td>1</td>\n",
              "    </tr>\n",
              "    <tr>\n",
              "      <th>1</th>\n",
              "      <td>buddhism has very much lot compatible with chr...</td>\n",
              "      <td>1</td>\n",
              "    </tr>\n",
              "    <tr>\n",
              "      <th>2</th>\n",
              "      <td>seriously don say thing first all they won get...</td>\n",
              "      <td>-1</td>\n",
              "    </tr>\n",
              "    <tr>\n",
              "      <th>3</th>\n",
              "      <td>what you have learned yours and only yours wha...</td>\n",
              "      <td>0</td>\n",
              "    </tr>\n",
              "    <tr>\n",
              "      <th>4</th>\n",
              "      <td>for your own benefit you may want read living ...</td>\n",
              "      <td>1</td>\n",
              "    </tr>\n",
              "  </tbody>\n",
              "</table>\n",
              "</div>\n",
              "    <div class=\"colab-df-buttons\">\n",
              "\n",
              "  <div class=\"colab-df-container\">\n",
              "    <button class=\"colab-df-convert\" onclick=\"convertToInteractive('df-c949b823-68c7-4f6f-9364-c674cbd768f7')\"\n",
              "            title=\"Convert this dataframe to an interactive table.\"\n",
              "            style=\"display:none;\">\n",
              "\n",
              "  <svg xmlns=\"http://www.w3.org/2000/svg\" height=\"24px\" viewBox=\"0 -960 960 960\">\n",
              "    <path d=\"M120-120v-720h720v720H120Zm60-500h600v-160H180v160Zm220 220h160v-160H400v160Zm0 220h160v-160H400v160ZM180-400h160v-160H180v160Zm440 0h160v-160H620v160ZM180-180h160v-160H180v160Zm440 0h160v-160H620v160Z\"/>\n",
              "  </svg>\n",
              "    </button>\n",
              "\n",
              "  <style>\n",
              "    .colab-df-container {\n",
              "      display:flex;\n",
              "      gap: 12px;\n",
              "    }\n",
              "\n",
              "    .colab-df-convert {\n",
              "      background-color: #E8F0FE;\n",
              "      border: none;\n",
              "      border-radius: 50%;\n",
              "      cursor: pointer;\n",
              "      display: none;\n",
              "      fill: #1967D2;\n",
              "      height: 32px;\n",
              "      padding: 0 0 0 0;\n",
              "      width: 32px;\n",
              "    }\n",
              "\n",
              "    .colab-df-convert:hover {\n",
              "      background-color: #E2EBFA;\n",
              "      box-shadow: 0px 1px 2px rgba(60, 64, 67, 0.3), 0px 1px 3px 1px rgba(60, 64, 67, 0.15);\n",
              "      fill: #174EA6;\n",
              "    }\n",
              "\n",
              "    .colab-df-buttons div {\n",
              "      margin-bottom: 4px;\n",
              "    }\n",
              "\n",
              "    [theme=dark] .colab-df-convert {\n",
              "      background-color: #3B4455;\n",
              "      fill: #D2E3FC;\n",
              "    }\n",
              "\n",
              "    [theme=dark] .colab-df-convert:hover {\n",
              "      background-color: #434B5C;\n",
              "      box-shadow: 0px 1px 3px 1px rgba(0, 0, 0, 0.15);\n",
              "      filter: drop-shadow(0px 1px 2px rgba(0, 0, 0, 0.3));\n",
              "      fill: #FFFFFF;\n",
              "    }\n",
              "  </style>\n",
              "\n",
              "    <script>\n",
              "      const buttonEl =\n",
              "        document.querySelector('#df-c949b823-68c7-4f6f-9364-c674cbd768f7 button.colab-df-convert');\n",
              "      buttonEl.style.display =\n",
              "        google.colab.kernel.accessAllowed ? 'block' : 'none';\n",
              "\n",
              "      async function convertToInteractive(key) {\n",
              "        const element = document.querySelector('#df-c949b823-68c7-4f6f-9364-c674cbd768f7');\n",
              "        const dataTable =\n",
              "          await google.colab.kernel.invokeFunction('convertToInteractive',\n",
              "                                                    [key], {});\n",
              "        if (!dataTable) return;\n",
              "\n",
              "        const docLinkHtml = 'Like what you see? Visit the ' +\n",
              "          '<a target=\"_blank\" href=https://colab.research.google.com/notebooks/data_table.ipynb>data table notebook</a>'\n",
              "          + ' to learn more about interactive tables.';\n",
              "        element.innerHTML = '';\n",
              "        dataTable['output_type'] = 'display_data';\n",
              "        await google.colab.output.renderOutput(dataTable, element);\n",
              "        const docLink = document.createElement('div');\n",
              "        docLink.innerHTML = docLinkHtml;\n",
              "        element.appendChild(docLink);\n",
              "      }\n",
              "    </script>\n",
              "  </div>\n",
              "\n",
              "\n",
              "<div id=\"df-824d7bf2-e9ec-442d-bb4a-00b800994edf\">\n",
              "  <button class=\"colab-df-quickchart\" onclick=\"quickchart('df-824d7bf2-e9ec-442d-bb4a-00b800994edf')\"\n",
              "            title=\"Suggest charts\"\n",
              "            style=\"display:none;\">\n",
              "\n",
              "<svg xmlns=\"http://www.w3.org/2000/svg\" height=\"24px\"viewBox=\"0 0 24 24\"\n",
              "     width=\"24px\">\n",
              "    <g>\n",
              "        <path d=\"M19 3H5c-1.1 0-2 .9-2 2v14c0 1.1.9 2 2 2h14c1.1 0 2-.9 2-2V5c0-1.1-.9-2-2-2zM9 17H7v-7h2v7zm4 0h-2V7h2v10zm4 0h-2v-4h2v4z\"/>\n",
              "    </g>\n",
              "</svg>\n",
              "  </button>\n",
              "\n",
              "<style>\n",
              "  .colab-df-quickchart {\n",
              "      --bg-color: #E8F0FE;\n",
              "      --fill-color: #1967D2;\n",
              "      --hover-bg-color: #E2EBFA;\n",
              "      --hover-fill-color: #174EA6;\n",
              "      --disabled-fill-color: #AAA;\n",
              "      --disabled-bg-color: #DDD;\n",
              "  }\n",
              "\n",
              "  [theme=dark] .colab-df-quickchart {\n",
              "      --bg-color: #3B4455;\n",
              "      --fill-color: #D2E3FC;\n",
              "      --hover-bg-color: #434B5C;\n",
              "      --hover-fill-color: #FFFFFF;\n",
              "      --disabled-bg-color: #3B4455;\n",
              "      --disabled-fill-color: #666;\n",
              "  }\n",
              "\n",
              "  .colab-df-quickchart {\n",
              "    background-color: var(--bg-color);\n",
              "    border: none;\n",
              "    border-radius: 50%;\n",
              "    cursor: pointer;\n",
              "    display: none;\n",
              "    fill: var(--fill-color);\n",
              "    height: 32px;\n",
              "    padding: 0;\n",
              "    width: 32px;\n",
              "  }\n",
              "\n",
              "  .colab-df-quickchart:hover {\n",
              "    background-color: var(--hover-bg-color);\n",
              "    box-shadow: 0 1px 2px rgba(60, 64, 67, 0.3), 0 1px 3px 1px rgba(60, 64, 67, 0.15);\n",
              "    fill: var(--button-hover-fill-color);\n",
              "  }\n",
              "\n",
              "  .colab-df-quickchart-complete:disabled,\n",
              "  .colab-df-quickchart-complete:disabled:hover {\n",
              "    background-color: var(--disabled-bg-color);\n",
              "    fill: var(--disabled-fill-color);\n",
              "    box-shadow: none;\n",
              "  }\n",
              "\n",
              "  .colab-df-spinner {\n",
              "    border: 2px solid var(--fill-color);\n",
              "    border-color: transparent;\n",
              "    border-bottom-color: var(--fill-color);\n",
              "    animation:\n",
              "      spin 1s steps(1) infinite;\n",
              "  }\n",
              "\n",
              "  @keyframes spin {\n",
              "    0% {\n",
              "      border-color: transparent;\n",
              "      border-bottom-color: var(--fill-color);\n",
              "      border-left-color: var(--fill-color);\n",
              "    }\n",
              "    20% {\n",
              "      border-color: transparent;\n",
              "      border-left-color: var(--fill-color);\n",
              "      border-top-color: var(--fill-color);\n",
              "    }\n",
              "    30% {\n",
              "      border-color: transparent;\n",
              "      border-left-color: var(--fill-color);\n",
              "      border-top-color: var(--fill-color);\n",
              "      border-right-color: var(--fill-color);\n",
              "    }\n",
              "    40% {\n",
              "      border-color: transparent;\n",
              "      border-right-color: var(--fill-color);\n",
              "      border-top-color: var(--fill-color);\n",
              "    }\n",
              "    60% {\n",
              "      border-color: transparent;\n",
              "      border-right-color: var(--fill-color);\n",
              "    }\n",
              "    80% {\n",
              "      border-color: transparent;\n",
              "      border-right-color: var(--fill-color);\n",
              "      border-bottom-color: var(--fill-color);\n",
              "    }\n",
              "    90% {\n",
              "      border-color: transparent;\n",
              "      border-bottom-color: var(--fill-color);\n",
              "    }\n",
              "  }\n",
              "</style>\n",
              "\n",
              "  <script>\n",
              "    async function quickchart(key) {\n",
              "      const quickchartButtonEl =\n",
              "        document.querySelector('#' + key + ' button');\n",
              "      quickchartButtonEl.disabled = true;  // To prevent multiple clicks.\n",
              "      quickchartButtonEl.classList.add('colab-df-spinner');\n",
              "      try {\n",
              "        const charts = await google.colab.kernel.invokeFunction(\n",
              "            'suggestCharts', [key], {});\n",
              "      } catch (error) {\n",
              "        console.error('Error during call to suggestCharts:', error);\n",
              "      }\n",
              "      quickchartButtonEl.classList.remove('colab-df-spinner');\n",
              "      quickchartButtonEl.classList.add('colab-df-quickchart-complete');\n",
              "    }\n",
              "    (() => {\n",
              "      let quickchartButtonEl =\n",
              "        document.querySelector('#df-824d7bf2-e9ec-442d-bb4a-00b800994edf button');\n",
              "      quickchartButtonEl.style.display =\n",
              "        google.colab.kernel.accessAllowed ? 'block' : 'none';\n",
              "    })();\n",
              "  </script>\n",
              "</div>\n",
              "\n",
              "    </div>\n",
              "  </div>\n"
            ],
            "application/vnd.google.colaboratory.intrinsic+json": {
              "type": "dataframe",
              "variable_name": "df",
              "summary": "{\n  \"name\": \"df\",\n  \"rows\": 37249,\n  \"fields\": [\n    {\n      \"column\": \"clean_comment\",\n      \"properties\": {\n        \"dtype\": \"string\",\n        \"num_unique_values\": 36799,\n        \"samples\": [\n          \" course yes sir you are right should vote the current government back into power because they clearly more than one man \",\n          \"brought this with some right wingers one time they proceed link multiple articles that said these deaths were not due demonetization\",\n          \"please let know missed any information add the text part will about organizations working towards protecting privacy about the ongoing case regarding right privacy and the governments response \"\n        ],\n        \"semantic_type\": \"\",\n        \"description\": \"\"\n      }\n    },\n    {\n      \"column\": \"category\",\n      \"properties\": {\n        \"dtype\": \"number\",\n        \"std\": 0,\n        \"min\": -1,\n        \"max\": 1,\n        \"num_unique_values\": 3,\n        \"samples\": [\n          1,\n          -1,\n          0\n        ],\n        \"semantic_type\": \"\",\n        \"description\": \"\"\n      }\n    }\n  ]\n}"
            }
          },
          "metadata": {},
          "execution_count": 4
        }
      ]
    },
    {
      "cell_type": "markdown",
      "source": [
        "# Exploratory Data Analysis"
      ],
      "metadata": {
        "id": "z-rpOkbNOOHK"
      }
    },
    {
      "cell_type": "code",
      "source": [
        "dist=list(df.category)\n",
        "pp=[0,0,0]\n",
        "for i in dist:\n",
        "    if i==-1:\n",
        "        pp[0]+=1\n",
        "    elif i==0:\n",
        "        pp[1]+=1\n",
        "    else:\n",
        "        pp[2]+=1\n",
        "print(pp)"
      ],
      "metadata": {
        "execution": {
          "iopub.status.busy": "2021-09-15T18:11:52.114599Z",
          "iopub.execute_input": "2021-09-15T18:11:52.114873Z",
          "iopub.status.idle": "2021-09-15T18:11:52.131796Z",
          "shell.execute_reply.started": "2021-09-15T18:11:52.114843Z",
          "shell.execute_reply": "2021-09-15T18:11:52.131153Z"
        },
        "trusted": true,
        "colab": {
          "base_uri": "https://localhost:8080/"
        },
        "id": "MZBLI-5VOOHL",
        "outputId": "c2695665-181b-49da-a788-c1bd9765651f"
      },
      "execution_count": null,
      "outputs": [
        {
          "output_type": "stream",
          "name": "stdout",
          "text": [
            "[8277, 13142, 15830]\n"
          ]
        }
      ]
    },
    {
      "cell_type": "code",
      "source": [
        "labels=['Negative','Neutral','Positive']\n",
        "sns.barplot(x=labels,y=pp)\n",
        "plt.show()"
      ],
      "metadata": {
        "execution": {
          "iopub.status.busy": "2021-09-15T18:11:55.239673Z",
          "iopub.execute_input": "2021-09-15T18:11:55.239950Z",
          "iopub.status.idle": "2021-09-15T18:11:55.430048Z",
          "shell.execute_reply.started": "2021-09-15T18:11:55.239905Z",
          "shell.execute_reply": "2021-09-15T18:11:55.429380Z"
        },
        "trusted": true,
        "colab": {
          "base_uri": "https://localhost:8080/",
          "height": 430
        },
        "id": "DubvhrpjOOHM",
        "outputId": "b32a56ee-a9a9-4e50-e064-781fefde0b61"
      },
      "execution_count": null,
      "outputs": [
        {
          "output_type": "display_data",
          "data": {
            "text/plain": [
              "<Figure size 640x480 with 1 Axes>"
            ],
            "image/png": "[encoded data removed]"
          },
          "metadata": {}
        }
      ]
    },
    {
      "cell_type": "code",
      "source": [
        "comment=list(df.clean_comment.astype(str))\n",
        "sentiment=list(df.category)\n",
        "reddit_dict=dict(zip(comment,sentiment))"
      ],
      "metadata": {
        "execution": {
          "iopub.status.busy": "2021-09-15T18:11:58.234099Z",
          "iopub.execute_input": "2021-09-15T18:11:58.234653Z",
          "iopub.status.idle": "2021-09-15T18:11:58.261544Z",
          "shell.execute_reply.started": "2021-09-15T18:11:58.234615Z",
          "shell.execute_reply": "2021-09-15T18:11:58.260744Z"
        },
        "trusted": true,
        "id": "d-kD3yaOOOHN"
      },
      "execution_count": null,
      "outputs": []
    },
    {
      "cell_type": "code",
      "source": [
        "print(list(reddit_dict.items())[:5])"
      ],
      "metadata": {
        "execution": {
          "iopub.status.busy": "2021-09-15T18:11:59.792969Z",
          "iopub.execute_input": "2021-09-15T18:11:59.793784Z",
          "iopub.status.idle": "2021-09-15T18:11:59.805609Z",
          "shell.execute_reply.started": "2021-09-15T18:11:59.793747Z",
          "shell.execute_reply": "2021-09-15T18:11:59.804765Z"
        },
        "trusted": true,
        "colab": {
          "base_uri": "https://localhost:8080/"
        },
        "id": "IzAymLQJOOHN",
        "outputId": "25b13961-13a3-43aa-843c-0c9d11920449"
      },
      "execution_count": null,
      "outputs": [
        {
          "output_type": "stream",
          "name": "stdout",
          "text": [
            "[(' family mormon have never tried explain them they still stare puzzled from time time like some kind strange creature nonetheless they have come admire for the patience calmness equanimity acceptance and compassion have developed all the things buddhism teaches ', 1), ('buddhism has very much lot compatible with christianity especially considering that sin and suffering are almost the same thing suffering caused wanting things shouldn want going about getting things the wrong way christian this would mean wanting things that don coincide with god will and wanting things that coincide but without the aid jesus buddhism could also seen proof god all mighty will and omnipotence certainly christians are lucky have one such christ there side but what about everyone else well many christians believe god grace salvation and buddhism god way showing grace upon others would also help study the things jesus said and see how buddha has made similar claims such rich man getting into heaven joke basically advocating that should rid ourselves material possessions fact distinctly remembered jesus making someone cry because that someone asked what achieve salvation and jesus replied with live like buddhist very very roughly translated also point out that buddha rarely spoke anything about god theory personally because knew well enough leave that jesus and mohamed who came later just remember conflict difference opinion but education can fun involving and enlightening easier teach something than prove right like intelligent design ', 1), ('seriously don say thing first all they won get its too complex explain normal people anyway and they are dogmatic then doesn matter what you say see mechante post and for any reason you decide later life move from buddhism and that doesn suit you identity though you still get keep all the wisdom then your family will treat you like you went through weird hippy phase for while there didncha and you never hear the end pro tip don put one these your wall jpg ', -1), ('what you have learned yours and only yours what you want teach different focus the goal not the wrapping paper buddhism can passed others without word about the buddha ', 0), ('for your own benefit you may want read living buddha living christ thich nhat hanh you might find any subsequent discussions with your loved ones easier you are able articulate some the parallels that exist between buddhism and christianity don surprised they react negatively for having lost you treat them with compassion and deserved understanding although they may indeed display signs being hurt your new path properly sharing with them way that may alleviate their fear something they may perceive wrong the very least alien their beliefs may help allowing them the long run accept although not necessarily agree with your decision regardless where they end you have make your own way ', 1)]\n"
          ]
        }
      ]
    },
    {
      "cell_type": "code",
      "source": [
        "Neg_list=[]\n",
        "Pos_list=[]\n",
        "Neutral_list=[]\n",
        "for i,j in reddit_dict.items():\n",
        "    if j==-1:\n",
        "        Neg_list.append(i)\n",
        "    elif j==0:\n",
        "        Neutral_list.append(i)\n",
        "    else:\n",
        "        Pos_list.append(i)"
      ],
      "metadata": {
        "execution": {
          "iopub.status.busy": "2021-09-15T18:12:02.702197Z",
          "iopub.execute_input": "2021-09-15T18:12:02.702743Z",
          "iopub.status.idle": "2021-09-15T18:12:02.720346Z",
          "shell.execute_reply.started": "2021-09-15T18:12:02.702706Z",
          "shell.execute_reply": "2021-09-15T18:12:02.719612Z"
        },
        "trusted": true,
        "id": "r7wHJSENOOHN"
      },
      "execution_count": null,
      "outputs": []
    },
    {
      "cell_type": "code",
      "source": [
        "print(Neg_list[:2],'\\n',Neutral_list[:2],'\\n',Pos_list[:2])"
      ],
      "metadata": {
        "execution": {
          "iopub.status.busy": "2021-09-15T18:12:05.571232Z",
          "iopub.execute_input": "2021-09-15T18:12:05.571504Z",
          "iopub.status.idle": "2021-09-15T18:12:05.579633Z",
          "shell.execute_reply.started": "2021-09-15T18:12:05.571474Z",
          "shell.execute_reply": "2021-09-15T18:12:05.578941Z"
        },
        "trusted": true,
        "colab": {
          "base_uri": "https://localhost:8080/"
        },
        "id": "n846tbWcOOHO",
        "outputId": "5bd9fe18-e727-45ea-9d53-e9f7ebbabb50"
      },
      "execution_count": null,
      "outputs": [
        {
          "output_type": "stream",
          "name": "stdout",
          "text": [
            "['seriously don say thing first all they won get its too complex explain normal people anyway and they are dogmatic then doesn matter what you say see mechante post and for any reason you decide later life move from buddhism and that doesn suit you identity though you still get keep all the wisdom then your family will treat you like you went through weird hippy phase for while there didncha and you never hear the end pro tip don put one these your wall jpg ', 'you should all sit down together and watch the simpsons episode where lisa becomes buddhist simpsons season episode she little faith then discuss '] \n",
            " ['what you have learned yours and only yours what you want teach different focus the goal not the wrapping paper buddhism can passed others without word about the buddha ', 'jesus was zen meets jew '] \n",
            " [' family mormon have never tried explain them they still stare puzzled from time time like some kind strange creature nonetheless they have come admire for the patience calmness equanimity acceptance and compassion have developed all the things buddhism teaches ', 'buddhism has very much lot compatible with christianity especially considering that sin and suffering are almost the same thing suffering caused wanting things shouldn want going about getting things the wrong way christian this would mean wanting things that don coincide with god will and wanting things that coincide but without the aid jesus buddhism could also seen proof god all mighty will and omnipotence certainly christians are lucky have one such christ there side but what about everyone else well many christians believe god grace salvation and buddhism god way showing grace upon others would also help study the things jesus said and see how buddha has made similar claims such rich man getting into heaven joke basically advocating that should rid ourselves material possessions fact distinctly remembered jesus making someone cry because that someone asked what achieve salvation and jesus replied with live like buddhist very very roughly translated also point out that buddha rarely spoke anything about god theory personally because knew well enough leave that jesus and mohamed who came later just remember conflict difference opinion but education can fun involving and enlightening easier teach something than prove right like intelligent design ']\n"
          ]
        }
      ]
    },
    {
      "cell_type": "code",
      "source": [
        "pos_len=[]\n",
        "for i in Pos_list:\n",
        "    pos_len.append(len(i))"
      ],
      "metadata": {
        "execution": {
          "iopub.status.busy": "2021-09-15T18:12:12.237599Z",
          "iopub.execute_input": "2021-09-15T18:12:12.237856Z",
          "iopub.status.idle": "2021-09-15T18:12:12.246829Z",
          "shell.execute_reply.started": "2021-09-15T18:12:12.237828Z",
          "shell.execute_reply": "2021-09-15T18:12:12.245736Z"
        },
        "trusted": true,
        "id": "CbLgLrwdOOHO"
      },
      "execution_count": null,
      "outputs": []
    },
    {
      "cell_type": "code",
      "source": [
        "neg_len=[]\n",
        "for i in Neg_list:\n",
        "    neg_len.append(len(i))"
      ],
      "metadata": {
        "execution": {
          "iopub.status.busy": "2021-09-15T18:12:14.364788Z",
          "iopub.execute_input": "2021-09-15T18:12:14.365599Z",
          "iopub.status.idle": "2021-09-15T18:12:14.372733Z",
          "shell.execute_reply.started": "2021-09-15T18:12:14.365552Z",
          "shell.execute_reply": "2021-09-15T18:12:14.372015Z"
        },
        "trusted": true,
        "id": "kTldFsUeOOHO"
      },
      "execution_count": null,
      "outputs": []
    },
    {
      "cell_type": "code",
      "source": [
        "Neutral_len=[]\n",
        "for i in Neutral_list:\n",
        "    Neutral_len.append(len(i))"
      ],
      "metadata": {
        "execution": {
          "iopub.status.busy": "2021-09-15T18:12:15.708692Z",
          "iopub.execute_input": "2021-09-15T18:12:15.708988Z",
          "iopub.status.idle": "2021-09-15T18:12:15.718346Z",
          "shell.execute_reply.started": "2021-09-15T18:12:15.708957Z",
          "shell.execute_reply": "2021-09-15T18:12:15.717377Z"
        },
        "trusted": true,
        "id": "gX8XT8zFOOHP"
      },
      "execution_count": null,
      "outputs": []
    },
    {
      "cell_type": "code",
      "source": [
        "plt.subplots(figsize=(20,8))\n",
        "plt.title(\"Word Length Variation\")\n",
        "plt.plot(Neutral_len[:250],c='b',label='Neutral')\n",
        "plt.plot(neg_len[:250],c='r',label='Negative')\n",
        "plt.plot(pos_len[:250],c='g',label='Positive')\n",
        "plt.legend(loc='upper left')\n",
        "plt.show()"
      ],
      "metadata": {
        "execution": {
          "iopub.status.busy": "2021-09-15T18:12:17.986661Z",
          "iopub.execute_input": "2021-09-15T18:12:17.986937Z",
          "iopub.status.idle": "2021-09-15T18:12:18.236115Z",
          "shell.execute_reply.started": "2021-09-15T18:12:17.986893Z",
          "shell.execute_reply": "2021-09-15T18:12:18.235380Z"
        },
        "trusted": true,
        "colab": {
          "base_uri": "https://localhost:8080/",
          "height": 444
        },
        "id": "pxOmSK-uOOHP",
        "outputId": "2292ce35-d9d7-4366-ee72-3079839a8e33"
      },
      "execution_count": null,
      "outputs": [
        {
          "output_type": "display_data",
          "data": {
            "text/plain": [
              "<Figure size 2000x800 with 1 Axes>"
            ],
            "image/png": "[encoded data removed]"
          },
          "metadata": {}
        }
      ]
    },
    {
      "cell_type": "code",
      "source": [
        "pos_mean=sum(pos_len)//len(pos_len)\n",
        "neg_mean=sum(neg_len)//len(neg_len)\n",
        "neutral_mean=sum(Neutral_len)//len(Neutral_len)\n",
        "combined_mean=(sum(pos_len)+sum(neg_len)+sum(Neutral_len))//(len(pos_len)+len(neg_len)+len(Neutral_len))"
      ],
      "metadata": {
        "execution": {
          "iopub.status.busy": "2021-09-15T18:12:21.844122Z",
          "iopub.execute_input": "2021-09-15T18:12:21.844791Z",
          "iopub.status.idle": "2021-09-15T18:12:21.849550Z",
          "shell.execute_reply.started": "2021-09-15T18:12:21.844754Z",
          "shell.execute_reply": "2021-09-15T18:12:21.848885Z"
        },
        "trusted": true,
        "id": "XHb9fdpnOOHP"
      },
      "execution_count": null,
      "outputs": []
    },
    {
      "cell_type": "code",
      "source": [
        "plt.title(\"Average Word Length\")\n",
        "sns.barplot(x=['Negative','Neutral','Positive','Combined'],y=[neg_mean,neutral_mean,pos_mean,combined_mean])\n",
        "plt.show()"
      ],
      "metadata": {
        "execution": {
          "iopub.status.busy": "2021-09-15T18:12:24.037366Z",
          "iopub.execute_input": "2021-09-15T18:12:24.037891Z",
          "iopub.status.idle": "2021-09-15T18:12:24.210238Z",
          "shell.execute_reply.started": "2021-09-15T18:12:24.037854Z",
          "shell.execute_reply": "2021-09-15T18:12:24.209375Z"
        },
        "trusted": true,
        "colab": {
          "base_uri": "https://localhost:8080/",
          "height": 452
        },
        "id": "Po_kEPpwOOHP",
        "outputId": "876152e2-d7ee-412d-93da-dc63c1850b48"
      },
      "execution_count": null,
      "outputs": [
        {
          "output_type": "display_data",
          "data": {
            "text/plain": [
              "<Figure size 640x480 with 1 Axes>"
            ],
            "image/png": "[encoded data removed]"
          },
          "metadata": {}
        }
      ]
    },
    {
      "cell_type": "markdown",
      "source": [
        "# Tokeinzer\n"
      ],
      "metadata": {
        "id": "ZUFOflJEOOHQ"
      }
    },
    {
      "cell_type": "code",
      "source": [
        "from functools import reduce\n",
        "\n",
        "# Assuming df is a DataFrame with a 'clean_comment' column\n",
        "X = df['clean_comment'].astype('str')\n",
        "\n",
        "# Concatenate all cleaned comments into a single string using map() and reduce()\n",
        "lp = reduce(lambda x, y: x + \" \" + y, map(str, X))\n",
        "\n",
        "print(lp[:100])  # Displaying the first 100 characters of the concatenated string\n",
        "\n",
        "# Split the concatenated string into individual words using split()\n",
        "st = lp.split(' ')\n",
        "\n",
        "# Calculate the number of unique words (dictionary length)\n",
        "dict_len = len(set(st))"
      ],
      "metadata": {
        "execution": {
          "iopub.status.busy": "2021-09-15T18:24:24.819742Z",
          "iopub.execute_input": "2021-09-15T18:24:24.820035Z",
          "iopub.status.idle": "2021-09-15T18:24:24.829362Z",
          "shell.execute_reply.started": "2021-09-15T18:24:24.820005Z",
          "shell.execute_reply": "2021-09-15T18:24:24.828644Z"
        },
        "trusted": true,
        "colab": {
          "base_uri": "https://localhost:8080/"
        },
        "id": "J9u_yRBQOOHQ",
        "outputId": "c07da521-84c4-4a95-9559-c8c972c75387"
      },
      "execution_count": null,
      "outputs": [
        {
          "output_type": "stream",
          "name": "stdout",
          "text": [
            " family mormon have never tried explain them they still stare puzzled from time time like some kind \n"
          ]
        }
      ]
    },
    {
      "cell_type": "code",
      "source": [
        "tokenizer=Tokenizer(num_words=dict_len,lower=True,oov_token=\"OOV\")\n",
        "tokenizer.fit_on_texts(X)"
      ],
      "metadata": {
        "execution": {
          "iopub.status.busy": "2021-09-15T18:24:31.414484Z",
          "iopub.execute_input": "2021-09-15T18:24:31.414739Z",
          "iopub.status.idle": "2021-09-15T18:24:32.814246Z",
          "shell.execute_reply.started": "2021-09-15T18:24:31.414710Z",
          "shell.execute_reply": "2021-09-15T18:24:32.813502Z"
        },
        "trusted": true,
        "id": "3X84odMMOOHR"
      },
      "execution_count": null,
      "outputs": []
    },
    {
      "cell_type": "code",
      "source": [
        "\n",
        "import json\n",
        "tokenizer_json = tokenizer.to_json()\n",
        "with open('/content/drive/MyDrive/tokenizer.json', 'w', encoding='utf-8') as f:\n",
        "    f.write(json.dumps(tokenizer_json, ensure_ascii=False))"
      ],
      "metadata": {
        "id": "ha8TsB6Xq0lg"
      },
      "execution_count": null,
      "outputs": []
    },
    {
      "cell_type": "code",
      "source": [
        "len(tokenizer.word_index)\n"
      ],
      "metadata": {
        "execution": {
          "iopub.status.busy": "2021-09-15T18:24:33.865453Z",
          "iopub.execute_input": "2021-09-15T18:24:33.865709Z",
          "iopub.status.idle": "2021-09-15T18:24:33.871123Z",
          "shell.execute_reply.started": "2021-09-15T18:24:33.865681Z",
          "shell.execute_reply": "2021-09-15T18:24:33.870435Z"
        },
        "trusted": true,
        "colab": {
          "base_uri": "https://localhost:8080/"
        },
        "id": "HqziBKF7OOHR",
        "outputId": "e5b7fad5-23f2-4f73-c1ce-6f748a797e58"
      },
      "execution_count": null,
      "outputs": [
        {
          "output_type": "execute_result",
          "data": {
            "text/plain": [
              "54720"
            ]
          },
          "metadata": {},
          "execution_count": 19
        }
      ]
    },
    {
      "cell_type": "code",
      "source": [
        "X_train=tokenizer.texts_to_sequences(X)\n",
        "X_train_padded=pad_sequences(X_train,maxlen=175,padding='post',truncating='post')"
      ],
      "metadata": {
        "execution": {
          "iopub.status.busy": "2021-09-15T18:24:35.856430Z",
          "iopub.execute_input": "2021-09-15T18:24:35.857117Z",
          "iopub.status.idle": "2021-09-15T18:24:37.078373Z",
          "shell.execute_reply.started": "2021-09-15T18:24:35.857079Z",
          "shell.execute_reply": "2021-09-15T18:24:37.077610Z"
        },
        "trusted": true,
        "id": "NrfTtcKTOOHR"
      },
      "execution_count": null,
      "outputs": []
    },
    {
      "cell_type": "code",
      "source": [
        "\n",
        "X_train[:2]"
      ],
      "metadata": {
        "execution": {
          "iopub.status.busy": "2021-09-15T18:24:38.207145Z",
          "iopub.execute_input": "2021-09-15T18:24:38.207688Z",
          "iopub.status.idle": "2021-09-15T18:24:38.216857Z",
          "shell.execute_reply.started": "2021-09-15T18:24:38.207650Z",
          "shell.execute_reply": "2021-09-15T18:24:38.216014Z"
        },
        "trusted": true,
        "id": "WySsdnnXOOHR",
        "colab": {
          "base_uri": "https://localhost:8080/"
        },
        "outputId": "d42a3322-ee98-47fc-d52f-f5c324a4a8b8"
      },
      "execution_count": null,
      "outputs": [
        {
          "output_type": "execute_result",
          "data": {
            "text/plain": [
              "[[255,\n",
              "  27343,\n",
              "  11,\n",
              "  123,\n",
              "  642,\n",
              "  871,\n",
              "  40,\n",
              "  10,\n",
              "  95,\n",
              "  12295,\n",
              "  16336,\n",
              "  24,\n",
              "  54,\n",
              "  54,\n",
              "  22,\n",
              "  43,\n",
              "  290,\n",
              "  4165,\n",
              "  14016,\n",
              "  7561,\n",
              "  10,\n",
              "  11,\n",
              "  129,\n",
              "  3150,\n",
              "  6,\n",
              "  2,\n",
              "  5394,\n",
              "  19936,\n",
              "  11063,\n",
              "  6437,\n",
              "  3,\n",
              "  4417,\n",
              "  11,\n",
              "  1440,\n",
              "  19,\n",
              "  2,\n",
              "  112,\n",
              "  1519,\n",
              "  8055],\n",
              " [1519,\n",
              "  20,\n",
              "  78,\n",
              "  73,\n",
              "  83,\n",
              "  7127,\n",
              "  12,\n",
              "  2851,\n",
              "  454,\n",
              "  1144,\n",
              "  4,\n",
              "  7128,\n",
              "  3,\n",
              "  1710,\n",
              "  8,\n",
              "  383,\n",
              "  2,\n",
              "  45,\n",
              "  93,\n",
              "  1710,\n",
              "  1857,\n",
              "  2984,\n",
              "  112,\n",
              "  961,\n",
              "  91,\n",
              "  88,\n",
              "  26,\n",
              "  191,\n",
              "  112,\n",
              "  2,\n",
              "  202,\n",
              "  79,\n",
              "  1320,\n",
              "  5,\n",
              "  36,\n",
              "  263,\n",
              "  2984,\n",
              "  112,\n",
              "  4,\n",
              "  39,\n",
              "  19937,\n",
              "  12,\n",
              "  303,\n",
              "  14,\n",
              "  3,\n",
              "  2984,\n",
              "  112,\n",
              "  4,\n",
              "  19937,\n",
              "  13,\n",
              "  182,\n",
              "  2,\n",
              "  2852,\n",
              "  2381,\n",
              "  1519,\n",
              "  120,\n",
              "  60,\n",
              "  246,\n",
              "  709,\n",
              "  303,\n",
              "  19,\n",
              "  5184,\n",
              "  14,\n",
              "  3,\n",
              "  19938,\n",
              "  1407,\n",
              "  1469,\n",
              "  8,\n",
              "  2382,\n",
              "  11,\n",
              "  31,\n",
              "  102,\n",
              "  4290,\n",
              "  28,\n",
              "  363,\n",
              "  13,\n",
              "  17,\n",
              "  26,\n",
              "  190,\n",
              "  285,\n",
              "  76,\n",
              "  92,\n",
              "  1469,\n",
              "  198,\n",
              "  303,\n",
              "  6438,\n",
              "  11064,\n",
              "  3,\n",
              "  1519,\n",
              "  303,\n",
              "  79,\n",
              "  891,\n",
              "  6438,\n",
              "  1145,\n",
              "  280,\n",
              "  36,\n",
              "  60,\n",
              "  228,\n",
              "  1520,\n",
              "  2,\n",
              "  112,\n",
              "  2381,\n",
              "  87,\n",
              "  3,\n",
              "  67,\n",
              "  33,\n",
              "  882,\n",
              "  20,\n",
              "  137,\n",
              "  552,\n",
              "  883,\n",
              "  102,\n",
              "  851,\n",
              "  136,\n",
              "  191,\n",
              "  104,\n",
              "  3939,\n",
              "  832,\n",
              "  700,\n",
              "  6780,\n",
              "  4,\n",
              "  58,\n",
              "  1858,\n",
              "  1859,\n",
              "  1582,\n",
              "  14017,\n",
              "  256,\n",
              "  19939,\n",
              "  7129,\n",
              "  2381,\n",
              "  252,\n",
              "  133,\n",
              "  1751,\n",
              "  48,\n",
              "  4,\n",
              "  133,\n",
              "  435,\n",
              "  17,\n",
              "  1691,\n",
              "  11064,\n",
              "  3,\n",
              "  2381,\n",
              "  4990,\n",
              "  12,\n",
              "  284,\n",
              "  22,\n",
              "  1679,\n",
              "  78,\n",
              "  78,\n",
              "  5877,\n",
              "  6140,\n",
              "  60,\n",
              "  183,\n",
              "  41,\n",
              "  4,\n",
              "  882,\n",
              "  3286,\n",
              "  1787,\n",
              "  155,\n",
              "  26,\n",
              "  303,\n",
              "  1731,\n",
              "  872,\n",
              "  48,\n",
              "  997,\n",
              "  76,\n",
              "  247,\n",
              "  747,\n",
              "  4,\n",
              "  2381,\n",
              "  3,\n",
              "  14018,\n",
              "  29,\n",
              "  345,\n",
              "  585,\n",
              "  27,\n",
              "  364,\n",
              "  2266,\n",
              "  440,\n",
              "  339,\n",
              "  13,\n",
              "  524,\n",
              "  23,\n",
              "  609,\n",
              "  4166,\n",
              "  3,\n",
              "  12296,\n",
              "  1378,\n",
              "  2206,\n",
              "  116,\n",
              "  62,\n",
              "  1095,\n",
              "  71,\n",
              "  22,\n",
              "  2340,\n",
              "  2617]]"
            ]
          },
          "metadata": {},
          "execution_count": 21
        }
      ]
    },
    {
      "cell_type": "markdown",
      "source": [
        "# One Hot Encode The Sentiment Values"
      ],
      "metadata": {
        "id": "5J5o4-CfOOHR"
      }
    },
    {
      "cell_type": "code",
      "source": [
        "df['category']=df['category'].replace({-1:2})"
      ],
      "metadata": {
        "execution": {
          "iopub.status.busy": "2021-09-15T18:24:44.145645Z",
          "iopub.execute_input": "2021-09-15T18:24:44.146117Z",
          "iopub.status.idle": "2021-09-15T18:24:44.151402Z",
          "shell.execute_reply.started": "2021-09-15T18:24:44.146081Z",
          "shell.execute_reply": "2021-09-15T18:24:44.150634Z"
        },
        "trusted": true,
        "id": "_paGJHNlOOHS"
      },
      "execution_count": null,
      "outputs": []
    },
    {
      "cell_type": "code",
      "source": [
        "mp={0:\"Neutral\",1:\"Positve\",2:\"Negative\"}"
      ],
      "metadata": {
        "execution": {
          "iopub.status.busy": "2021-09-15T18:24:45.591838Z",
          "iopub.execute_input": "2021-09-15T18:24:45.592392Z",
          "iopub.status.idle": "2021-09-15T18:24:45.595974Z",
          "shell.execute_reply.started": "2021-09-15T18:24:45.592355Z",
          "shell.execute_reply": "2021-09-15T18:24:45.595283Z"
        },
        "trusted": true,
        "id": "WcKhb4VLOOHS"
      },
      "execution_count": null,
      "outputs": []
    },
    {
      "cell_type": "code",
      "source": [
        "Y=df['category'].values"
      ],
      "metadata": {
        "execution": {
          "iopub.status.busy": "2021-09-15T18:24:47.455296Z",
          "iopub.execute_input": "2021-09-15T18:24:47.455855Z",
          "iopub.status.idle": "2021-09-15T18:24:47.459584Z",
          "shell.execute_reply.started": "2021-09-15T18:24:47.455817Z",
          "shell.execute_reply": "2021-09-15T18:24:47.458945Z"
        },
        "trusted": true,
        "id": "D-MBMtPkOOHS"
      },
      "execution_count": null,
      "outputs": []
    },
    {
      "cell_type": "code",
      "source": [
        "Y_hot=to_categorical(Y)"
      ],
      "metadata": {
        "execution": {
          "iopub.status.busy": "2021-09-15T18:24:49.221761Z",
          "iopub.execute_input": "2021-09-15T18:24:49.222300Z",
          "iopub.status.idle": "2021-09-15T18:24:49.226726Z",
          "shell.execute_reply.started": "2021-09-15T18:24:49.222262Z",
          "shell.execute_reply": "2021-09-15T18:24:49.225900Z"
        },
        "trusted": true,
        "id": "eUvifORnOOHS"
      },
      "execution_count": null,
      "outputs": []
    },
    {
      "cell_type": "code",
      "source": [
        "print(Y_hot[:3])"
      ],
      "metadata": {
        "execution": {
          "iopub.status.busy": "2021-09-15T18:24:50.591450Z",
          "iopub.execute_input": "2021-09-15T18:24:50.592000Z",
          "iopub.status.idle": "2021-09-15T18:24:50.597212Z",
          "shell.execute_reply.started": "2021-09-15T18:24:50.591961Z",
          "shell.execute_reply": "2021-09-15T18:24:50.596326Z"
        },
        "trusted": true,
        "colab": {
          "base_uri": "https://localhost:8080/"
        },
        "id": "z5I1Bb2hOOHS",
        "outputId": "1064a6ea-d764-49a7-c90f-511357d9638d"
      },
      "execution_count": null,
      "outputs": [
        {
          "output_type": "stream",
          "name": "stdout",
          "text": [
            "[[0. 1. 0.]\n",
            " [0. 1. 0.]\n",
            " [0. 0. 1.]]\n"
          ]
        }
      ]
    },
    {
      "cell_type": "markdown",
      "source": [
        "# The Model"
      ],
      "metadata": {
        "id": "dZzhIq73OOHS"
      }
    },
    {
      "cell_type": "code",
      "source": [
        "model=Sequential()\n",
        "model.add(Embedding(dict_len,64,input_length=175))\n",
        "model.add(Dropout(0.3))\n",
        "model.add(Bidirectional(LSTM(175,return_sequences=True)))\n",
        "model.add(Dropout(0.3))\n",
        "model.add(Bidirectional(LSTM(350,return_sequences=True)))\n",
        "model.add(Dropout(0.3))\n",
        "model.add(Bidirectional(LSTM(700)))\n",
        "model.add(Dense(3,activation='softmax'))\n",
        "print(model.summary())"
      ],
      "metadata": {
        "execution": {
          "iopub.status.busy": "2021-09-15T18:26:21.651193Z",
          "iopub.execute_input": "2021-09-15T18:26:21.651448Z",
          "iopub.status.idle": "2021-09-15T18:26:23.730864Z",
          "shell.execute_reply.started": "2021-09-15T18:26:21.651419Z",
          "shell.execute_reply": "2021-09-15T18:26:23.730207Z"
        },
        "trusted": true,
        "colab": {
          "base_uri": "https://localhost:8080/"
        },
        "id": "mb7lScYGOOHT",
        "outputId": "be583e26-e93f-427b-e347-d38ed230fd66"
      },
      "execution_count": null,
      "outputs": [
        {
          "output_type": "stream",
          "name": "stdout",
          "text": [
            "Model: \"sequential\"\n",
            "_________________________________________________________________\n",
            " Layer (type)                Output Shape              Param #   \n",
            "=================================================================\n",
            " embedding (Embedding)       (None, 175, 64)           3554752   \n",
            "                                                                 \n",
            " dropout (Dropout)           (None, 175, 64)           0         \n",
            "                                                                 \n",
            " bidirectional (Bidirection  (None, 175, 350)          336000    \n",
            " al)                                                             \n",
            "                                                                 \n",
            " dropout_1 (Dropout)         (None, 175, 350)          0         \n",
            "                                                                 \n",
            " bidirectional_1 (Bidirecti  (None, 175, 700)          1962800   \n",
            " onal)                                                           \n",
            "                                                                 \n",
            " dropout_2 (Dropout)         (None, 175, 700)          0         \n",
            "                                                                 \n",
            " bidirectional_2 (Bidirecti  (None, 1400)              7845600   \n",
            " onal)                                                           \n",
            "                                                                 \n",
            " dense (Dense)               (None, 3)                 4203      \n",
            "                                                                 \n",
            "=================================================================\n",
            "Total params: 13703355 (52.27 MB)\n",
            "Trainable params: 13703355 (52.27 MB)\n",
            "Non-trainable params: 0 (0.00 Byte)\n",
            "_________________________________________________________________\n",
            "None\n"
          ]
        }
      ]
    },
    {
      "cell_type": "code",
      "source": [
        "model.compile(optimizer='adam',metrics=['accuracy'],loss='categorical_crossentropy')\n"
      ],
      "metadata": {
        "execution": {
          "iopub.status.busy": "2021-09-15T18:26:26.350514Z",
          "iopub.execute_input": "2021-09-15T18:26:26.351188Z",
          "iopub.status.idle": "2021-09-15T18:26:26.364000Z",
          "shell.execute_reply.started": "2021-09-15T18:26:26.351151Z",
          "shell.execute_reply": "2021-09-15T18:26:26.363160Z"
        },
        "trusted": true,
        "id": "UZoT4nxlOOHT"
      },
      "execution_count": null,
      "outputs": []
    },
    {
      "cell_type": "code",
      "source": [
        "hist=model.fit(X_train_padded, Y_hot, epochs=5, validation_split=0.2, batch_size=87)"
      ],
      "metadata": {
        "colab": {
          "base_uri": "https://localhost:8080/"
        },
        "id": "diSnelIuWiBl",
        "outputId": "da559d16-3cbd-4370-a4bc-b126fcff8149"
      },
      "execution_count": null,
      "outputs": [
        {
          "output_type": "stream",
          "name": "stdout",
          "text": [
            "Epoch 1/5\n",
            "343/343 [==============================] - 216s 595ms/step - loss: 0.7418 - accuracy: 0.6746 - val_loss: 0.5008 - val_accuracy: 0.7983\n",
            "Epoch 2/5\n",
            "343/343 [==============================] - 189s 551ms/step - loss: 0.4339 - accuracy: 0.8223 - val_loss: 0.4299 - val_accuracy: 0.8396\n",
            "Epoch 3/5\n",
            "343/343 [==============================] - 178s 520ms/step - loss: 0.3822 - accuracy: 0.8495 - val_loss: 0.4738 - val_accuracy: 0.8235\n",
            "Epoch 4/5\n",
            "343/343 [==============================] - 166s 483ms/step - loss: 0.2754 - accuracy: 0.8984 - val_loss: 0.3967 - val_accuracy: 0.8723\n",
            "Epoch 5/5\n",
            "343/343 [==============================] - 172s 502ms/step - loss: 0.1631 - accuracy: 0.9458 - val_loss: 0.3894 - val_accuracy: 0.8762\n"
          ]
        }
      ]
    },
    {
      "cell_type": "code",
      "source": [
        "plt.plot(hist.history['accuracy'],c='b',label='Training')\n",
        "plt.plot(hist.history['val_accuracy'],c='r',label='Validation')\n",
        "plt.legend(loc='lower right')\n",
        "plt.show()"
      ],
      "metadata": {
        "execution": {
          "iopub.status.busy": "2021-09-15T18:44:57.461664Z",
          "iopub.execute_input": "2021-09-15T18:44:57.462006Z",
          "iopub.status.idle": "2021-09-15T18:44:57.661637Z",
          "shell.execute_reply.started": "2021-09-15T18:44:57.461967Z",
          "shell.execute_reply": "2021-09-15T18:44:57.660900Z"
        },
        "trusted": true,
        "colab": {
          "base_uri": "https://localhost:8080/",
          "height": 430
        },
        "id": "KtwHWCBcOOHT",
        "outputId": "13ca184b-ad6f-409c-b17f-151c8b7e2fbe"
      },
      "execution_count": null,
      "outputs": [
        {
          "output_type": "display_data",
          "data": {
            "text/plain": [
              "<Figure size 640x480 with 1 Axes>"
            ],
            "image/png": "[encoded data removed]"
          },
          "metadata": {}
        }
      ]
    },
    {
      "cell_type": "code",
      "source": [
        "print(hist.history)\n"
      ],
      "metadata": {
        "colab": {
          "base_uri": "https://localhost:8080/"
        },
        "id": "hY3-E5vwcACf",
        "outputId": "8109da3f-fb1d-4af1-e718-f8f875d1628a"
      },
      "execution_count": null,
      "outputs": [
        {
          "output_type": "stream",
          "name": "stdout",
          "text": [
            "{'loss': [0.7417994141578674, 0.43394196033477783, 0.3822444975376129, 0.27543753385543823, 0.16314978897571564], 'accuracy': [0.6745864152908325, 0.8223430514335632, 0.8495251536369324, 0.8983858227729797, 0.9458035230636597], 'val_loss': [0.500762939453125, 0.4299422800540924, 0.47375577688217163, 0.3967439532279968, 0.3893998861312866], 'val_accuracy': [0.7982550263404846, 0.8395973443984985, 0.8234899044036865, 0.872348964214325, 0.8762416243553162]}\n"
          ]
        }
      ]
    },
    {
      "cell_type": "code",
      "source": [],
      "metadata": {
        "execution": {
          "iopub.status.busy": "2021-09-15T18:45:23.907875Z",
          "iopub.execute_input": "2021-09-15T18:45:23.908509Z",
          "iopub.status.idle": "2021-09-15T18:45:24.107401Z",
          "shell.execute_reply.started": "2021-09-15T18:45:23.908474Z",
          "shell.execute_reply": "2021-09-15T18:45:24.106743Z"
        },
        "trusted": true,
        "id": "8emsEBn8OOHT"
      },
      "execution_count": null,
      "outputs": []
    },
    {
      "cell_type": "markdown",
      "source": [
        "# Check For Your Own Data"
      ],
      "metadata": {
        "id": "xeiV_4NsOOHU"
      }
    },
    {
      "cell_type": "code",
      "source": [
        "import numpy as np\n",
        "\n",
        "def predict(s):\n",
        "    X_tes = [s]\n",
        "    X_test = tokenizer.texts_to_sequences(X_tes)\n",
        "    X_test_padded = pad_sequences(X_test, maxlen=175, padding='post', truncating='post')\n",
        "\n",
        "    # Use np.argmax to get the index of the maximum value in the prediction array\n",
        "    sent = int(np.argmax(model.predict(X_test_padded), axis=-1))\n",
        "\n",
        "    print(\"The Predicted Sentiment is\", mp[sent])\n",
        "\n",
        "# Example usage:\n",
        "text_input = \"This is a positive review.\"\n",
        "predict(text_input)\n"
      ],
      "metadata": {
        "execution": {
          "iopub.status.busy": "2021-09-15T19:01:21.802589Z",
          "iopub.execute_input": "2021-09-15T19:01:21.803359Z",
          "iopub.status.idle": "2021-09-15T19:01:21.809150Z",
          "shell.execute_reply.started": "2021-09-15T19:01:21.803315Z",
          "shell.execute_reply": "2021-09-15T19:01:21.808045Z"
        },
        "trusted": true,
        "colab": {
          "base_uri": "https://localhost:8080/"
        },
        "id": "NDGaPOyoOOHU",
        "outputId": "6937d364-9b0f-4592-aa0d-ac57b7283ed7"
      },
      "execution_count": null,
      "outputs": [
        {
          "output_type": "stream",
          "name": "stdout",
          "text": [
            "1/1 [==============================] - 2s 2s/step\n",
            "The Predicted Sentiment is Positve\n"
          ]
        },
        {
          "output_type": "stream",
          "name": "stderr",
          "text": [
            "<ipython-input-32-2b8471da6fa4>:9: DeprecationWarning: Conversion of an array with ndim > 0 to a scalar is deprecated, and will error in future. Ensure you extract a single element from your array before performing this operation. (Deprecated NumPy 1.25.)\n",
            "  sent = int(np.argmax(model.predict(X_test_padded), axis=-1))\n"
          ]
        }
      ]
    },
    {
      "cell_type": "code",
      "source": [
        "pol=\"The article is good but its not great moreover i would say you have done a decent job\"\n",
        "predict(pol)"
      ],
      "metadata": {
        "execution": {
          "iopub.status.busy": "2021-09-15T19:01:23.830737Z",
          "iopub.execute_input": "2021-09-15T19:01:23.831007Z",
          "iopub.status.idle": "2021-09-15T19:01:23.897583Z",
          "shell.execute_reply.started": "2021-09-15T19:01:23.830978Z",
          "shell.execute_reply": "2021-09-15T19:01:23.896524Z"
        },
        "trusted": true,
        "colab": {
          "base_uri": "https://localhost:8080/"
        },
        "id": "khJPuD40OOHi",
        "outputId": "cd3b5712-9185-4d1b-ae9b-3f2ca1ddb78f"
      },
      "execution_count": null,
      "outputs": [
        {
          "output_type": "stream",
          "name": "stdout",
          "text": [
            "1/1 [==============================] - 0s 32ms/step\n",
            "The Predicted Sentiment is Positve\n"
          ]
        },
        {
          "output_type": "stream",
          "name": "stderr",
          "text": [
            "<ipython-input-32-2b8471da6fa4>:9: DeprecationWarning: Conversion of an array with ndim > 0 to a scalar is deprecated, and will error in future. Ensure you extract a single element from your array before performing this operation. (Deprecated NumPy 1.25.)\n",
            "  sent = int(np.argmax(model.predict(X_test_padded), axis=-1))\n"
          ]
        }
      ]
    },
    {
      "cell_type": "code",
      "source": [
        "lop=\"You have done a stupid mistake which made you lose all the progress you made\"\n",
        "predict(lop)"
      ],
      "metadata": {
        "execution": {
          "iopub.status.busy": "2021-09-15T19:01:25.951008Z",
          "iopub.execute_input": "2021-09-15T19:01:25.951920Z",
          "iopub.status.idle": "2021-09-15T19:01:26.022655Z",
          "shell.execute_reply.started": "2021-09-15T19:01:25.951833Z",
          "shell.execute_reply": "2021-09-15T19:01:26.021315Z"
        },
        "trusted": true,
        "colab": {
          "base_uri": "https://localhost:8080/"
        },
        "id": "wAeqj7-fOOHi",
        "outputId": "e10eac71-5ecd-458b-88e2-8a9e571a35ba"
      },
      "execution_count": null,
      "outputs": [
        {
          "output_type": "stream",
          "name": "stdout",
          "text": [
            "1/1 [==============================] - 0s 30ms/step\n",
            "The Predicted Sentiment is Negative\n"
          ]
        },
        {
          "output_type": "stream",
          "name": "stderr",
          "text": [
            "<ipython-input-32-2b8471da6fa4>:9: DeprecationWarning: Conversion of an array with ndim > 0 to a scalar is deprecated, and will error in future. Ensure you extract a single element from your array before performing this operation. (Deprecated NumPy 1.25.)\n",
            "  sent = int(np.argmax(model.predict(X_test_padded), axis=-1))\n"
          ]
        }
      ]
    },
    {
      "cell_type": "code",
      "source": [
        "com=\"It aint hard work but its honest work\"\n",
        "predict(com)"
      ],
      "metadata": {
        "execution": {
          "iopub.status.busy": "2021-09-15T19:02:10.718184Z",
          "iopub.execute_input": "2021-09-15T19:02:10.718747Z",
          "iopub.status.idle": "2021-09-15T19:02:10.784534Z",
          "shell.execute_reply.started": "2021-09-15T19:02:10.718708Z",
          "shell.execute_reply": "2021-09-15T19:02:10.783811Z"
        },
        "trusted": true,
        "colab": {
          "base_uri": "https://localhost:8080/"
        },
        "id": "xRm6m0aMOOHi",
        "outputId": "ead91ee8-83c8-453d-c9fd-5b9de61865bb"
      },
      "execution_count": null,
      "outputs": [
        {
          "output_type": "stream",
          "name": "stdout",
          "text": [
            "1/1 [==============================] - 0s 31ms/step\n",
            "The Predicted Sentiment is Positve\n"
          ]
        },
        {
          "output_type": "stream",
          "name": "stderr",
          "text": [
            "<ipython-input-32-2b8471da6fa4>:9: DeprecationWarning: Conversion of an array with ndim > 0 to a scalar is deprecated, and will error in future. Ensure you extract a single element from your array before performing this operation. (Deprecated NumPy 1.25.)\n",
            "  sent = int(np.argmax(model.predict(X_test_padded), axis=-1))\n"
          ]
        }
      ]
    },
    {
      "cell_type": "code",
      "source": [
        "ppp=\"Lets Find out what this is going to be classified as\"\n",
        "predict(ppp)"
      ],
      "metadata": {
        "execution": {
          "iopub.status.busy": "2021-09-15T19:02:44.054684Z",
          "iopub.execute_input": "2021-09-15T19:02:44.055310Z",
          "iopub.status.idle": "2021-09-15T19:02:44.121844Z",
          "shell.execute_reply.started": "2021-09-15T19:02:44.055275Z",
          "shell.execute_reply": "2021-09-15T19:02:44.120579Z"
        },
        "trusted": true,
        "colab": {
          "base_uri": "https://localhost:8080/"
        },
        "id": "DwGFn8jwOOHi",
        "outputId": "f9923625-0f39-40b1-cbf5-8580dcfaa8c1"
      },
      "execution_count": null,
      "outputs": [
        {
          "output_type": "stream",
          "name": "stdout",
          "text": [
            "1/1 [==============================] - 0s 33ms/step\n",
            "The Predicted Sentiment is Neutral\n"
          ]
        },
        {
          "output_type": "stream",
          "name": "stderr",
          "text": [
            "<ipython-input-32-2b8471da6fa4>:9: DeprecationWarning: Conversion of an array with ndim > 0 to a scalar is deprecated, and will error in future. Ensure you extract a single element from your array before performing this operation. (Deprecated NumPy 1.25.)\n",
            "  sent = int(np.argmax(model.predict(X_test_padded), axis=-1))\n"
          ]
        }
      ]
    },
    {
      "cell_type": "code",
      "source": [
        "# prompt: download the model\n",
        "\n",
        "model.save('/content/drive/MyDrive/Reddit_Model_Final.h5')\n"
      ],
      "metadata": {
        "id": "PkO5Z1sAPShd",
        "colab": {
          "base_uri": "https://localhost:8080/"
        },
        "outputId": "73164011-477a-4a65-b9e0-e291f0c2df51"
      },
      "execution_count": null,
      "outputs": [
        {
          "output_type": "stream",
          "name": "stderr",
          "text": [
            "/usr/local/lib/python3.10/dist-packages/keras/src/engine/training.py:3103: UserWarning: You are saving your model as an HDF5 file via `model.save()`. This file format is considered legacy. We recommend using instead the native Keras format, e.g. `model.save('my_model.keras')`.\n",
            "  saving_api.save_model(\n"
          ]
        }
      ]
    },
    {
      "cell_type": "code",
      "source": [
        "\n",
        "model.summary()\n"
      ],
      "metadata": {
        "id": "oPRx9UwM8QNe",
        "colab": {
          "base_uri": "https://localhost:8080/"
        },
        "outputId": "8bcea41c-9ce3-4d85-83a8-d652417acda8"
      },
      "execution_count": null,
      "outputs": [
        {
          "output_type": "stream",
          "name": "stdout",
          "text": [
            "Model: \"sequential\"\n",
            "_________________________________________________________________\n",
            " Layer (type)                Output Shape              Param #   \n",
            "=================================================================\n",
            " embedding (Embedding)       (None, 175, 64)           3554752   \n",
            "                                                                 \n",
            " dropout (Dropout)           (None, 175, 64)           0         \n",
            "                                                                 \n",
            " bidirectional (Bidirection  (None, 175, 350)          336000    \n",
            " al)                                                             \n",
            "                                                                 \n",
            " dropout_1 (Dropout)         (None, 175, 350)          0         \n",
            "                                                                 \n",
            " bidirectional_1 (Bidirecti  (None, 175, 700)          1962800   \n",
            " onal)                                                           \n",
            "                                                                 \n",
            " dropout_2 (Dropout)         (None, 175, 700)          0         \n",
            "                                                                 \n",
            " bidirectional_2 (Bidirecti  (None, 1400)              7845600   \n",
            " onal)                                                           \n",
            "                                                                 \n",
            " dense (Dense)               (None, 3)                 4203      \n",
            "                                                                 \n",
            "=================================================================\n",
            "Total params: 13703355 (52.27 MB)\n",
            "Trainable params: 13703355 (52.27 MB)\n",
            "Non-trainable params: 0 (0.00 Byte)\n",
            "_________________________________________________________________\n"
          ]
        }
      ]
    },
    {
      "cell_type": "code",
      "source": [],
      "metadata": {
        "id": "wpCFGmReKNbX"
      },
      "execution_count": null,
      "outputs": []
    },
    {
      "cell_type": "code",
      "source": [],
      "metadata": {
        "id": "EjLAhFIxaWg1"
      },
      "execution_count": null,
      "outputs": []
    }
  ]
}